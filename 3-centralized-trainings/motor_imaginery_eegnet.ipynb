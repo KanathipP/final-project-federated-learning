{
 "cells": [
  {
   "cell_type": "code",
   "execution_count": 1,
   "id": "747cb3ba",
   "metadata": {},
   "outputs": [],
   "source": [
    "import sys"
   ]
  },
  {
   "cell_type": "code",
   "execution_count": 2,
   "id": "6e11bfb7",
   "metadata": {},
   "outputs": [
    {
     "name": "stdout",
     "output_type": "stream",
     "text": [
      "[Fetcher] Starting data preparation...\n",
      "[Download] Skip: BCICIV_2a_gdf.zip already exists\n",
      "[Extract] Skip: already extracted at /home/kanathipp/Stuffs/Works/final-project-federated-learning/0-raw-data/motor-imaginary/data\n",
      "[Fetcher] Completed.\n"
     ]
    },
    {
     "data": {
      "text/plain": [
       "(torch.Size([2928]),\n",
       " torch.Size([2928, 22, 176]),\n",
       " torch.Size([880]),\n",
       " torch.Size([880, 22, 176]))"
      ]
     },
     "execution_count": 2,
     "metadata": {},
     "output_type": "execute_result"
    }
   ],
   "source": [
    "# we will use motor imaginery data for testing\n",
    "from pathlib import Path\n",
    "import importlib\n",
    "\n",
    "DATA_CLEANER_DIR = Path(\"../1-data-cleaning-pipelines/motor-imaginary\")\n",
    "\n",
    "def get_motor_imaginery_train_and_validation_data():\n",
    "    target_dir = DATA_CLEANER_DIR.resolve()\n",
    "    if str(target_dir) not in sys.path:\n",
    "        sys.path.append(str(target_dir))\n",
    "\n",
    "    import centralize_train_data_cleaner \n",
    "    importlib.reload(centralize_train_data_cleaner)\n",
    "\n",
    "    train_labels, train_features, val_labels, val_features = centralize_train_data_cleaner.pipeline()\n",
    "\n",
    "    return train_labels, train_features, val_labels, val_features\n",
    "\n",
    "train_labels, train_features, val_labels, val_features = get_motor_imaginery_train_and_validation_data();\n",
    "train_labels.shape, train_features.shape, val_labels.shape, val_features.shape"
   ]
  },
  {
   "cell_type": "code",
   "execution_count": 5,
   "id": "3dec7cdf",
   "metadata": {},
   "outputs": [],
   "source": [
    "from pathlib import Path\n",
    "import importlib\n",
    "MODEL_DIR = Path(\"../2-models\")\n",
    "\n",
    "def get_eegnet_pytorch_model():\n",
    "    target_dir = MODEL_DIR.resolve()\n",
    "    if str(target_dir) not in sys.path:\n",
    "        sys.path.append(str(target_dir))\n",
    "\n",
    "    import eegnet_pytorch \n",
    "    importlib.reload(eegnet_pytorch)\n",
    "\n",
    "    return eegnet_pytorch.EEGNet\n",
    "\n",
    "EEGNet = get_eegnet_pytorch_model()"
   ]
  },
  {
   "cell_type": "code",
   "execution_count": 16,
   "id": "dce0dda0",
   "metadata": {},
   "outputs": [],
   "source": [
    "# Pytorch Lightning Model \n",
    "\n",
    "from pytorch_lightning import LightningModule, Trainer\n",
    "import torchmetrics\n",
    "from torch.utils.data import TensorDataset, DataLoader\n",
    "import torch\n",
    "import torch.nn as nn\n",
    "\n",
    "class EEGNetLightningModel(LightningModule):\n",
    "    def __init__(self):\n",
    "        super().__init__()\n",
    "        self.model = EEGNet(in_channel=22)\n",
    "        self.learning_rate = 1e-3\n",
    "        self.batch_size = 12\n",
    "        self.num_workers = 2\n",
    "\n",
    "        # แยก metric train/val ชัดเจน\n",
    "        self.train_acc = torchmetrics.Accuracy(task=\"multiclass\", num_classes=4)\n",
    "        self.val_acc   = torchmetrics.Accuracy(task=\"multiclass\", num_classes=4)\n",
    "        self.criterion = nn.CrossEntropyLoss()\n",
    "\n",
    "    def forward(self, x):\n",
    "        return self.model(x)\n",
    "\n",
    "    def configure_optimizers(self):\n",
    "        return torch.optim.Adam(self.parameters(), lr=self.learning_rate)\n",
    "\n",
    "    # ---------- dataloaders ----------\n",
    "    def train_dataloader(self):\n",
    "        train_dataset = TensorDataset(train_features, train_labels)\n",
    "        return DataLoader(train_dataset,\n",
    "                          batch_size=self.batch_size, num_workers=self.num_workers, shuffle=True)\n",
    "\n",
    "    def val_dataloader(self):\n",
    "        return DataLoader(TensorDataset(val_features, val_labels),\n",
    "                          batch_size=self.batch_size, num_workers=self.num_workers, shuffle=False)\n",
    "\n",
    "    # ---------- steps ----------\n",
    "    def training_step(self, batch, batch_idx):\n",
    "        signal, label = batch\n",
    "        logits = self(signal.float())          # [B, 4]\n",
    "        target = label.long().view(-1)         # [B]\n",
    "\n",
    "        loss = self.criterion(logits, target)\n",
    "        self.train_acc.update(logits, target)\n",
    "\n",
    "        # ให้ Lightning รวมเฉลี่ยทั้ง epoch ให้เอง\n",
    "        self.log('train_loss', loss, on_step=False, on_epoch=True, prog_bar=True)\n",
    "        self.log('train_acc',  self.train_acc, on_step=False, on_epoch=True, prog_bar=True)\n",
    "        return loss\n",
    "\n",
    "    def validation_step(self, batch, batch_idx):\n",
    "        signal, label = batch\n",
    "        logits = self(signal.float())\n",
    "        target = label.long().view(-1)\n",
    "\n",
    "        loss = self.criterion(logits, target)\n",
    "        self.val_acc.update(logits, target)\n",
    "\n",
    "        self.log('val_loss', loss, on_step=False, on_epoch=True, prog_bar=True)\n",
    "        self.log('val_acc',  self.val_acc, on_step=False, on_epoch=True, prog_bar=True)\n",
    "\n",
    "    # ---------- epoch-end hooks (ไม่มี outputs) ----------\n",
    "    def on_train_epoch_end(self):\n",
    "        # ถ้าจะพิมพ์สรุปเอง\n",
    "        train_loss = float(self.trainer.callback_metrics.get('train_loss', torch.tensor(0.0)))\n",
    "        train_acc  = float(self.train_acc.compute())\n",
    "        print('train acc loss', round(train_acc, 2), round(train_loss, 2))\n",
    "        self.train_acc.reset()\n",
    "\n",
    "    def on_validation_epoch_end(self):\n",
    "        val_loss = float(self.trainer.callback_metrics.get('val_loss', torch.tensor(0.0)))\n",
    "        val_acc  = float(self.val_acc.compute())\n",
    "        print('val   acc loss', round(val_acc, 2), round(val_loss, 2))\n",
    "        self.val_acc.reset()\n",
    "\n",
    "pytorch_lightning_model = EEGNetLightningModel()"
   ]
  },
  {
   "cell_type": "code",
   "execution_count": null,
   "id": "f2f6f770",
   "metadata": {},
   "outputs": [
    {
     "name": "stderr",
     "output_type": "stream",
     "text": [
      "💡 Tip: For seamless cloud uploads and versioning, try installing [litmodels](https://pypi.org/project/litmodels/) to enable LitModelCheckpoint, which syncs automatically with the Lightning model registry.\n",
      "GPU available: True (cuda), used: True\n",
      "TPU available: False, using: 0 TPU cores\n",
      "HPU available: False, using: 0 HPUs\n"
     ]
    }
   ],
   "source": [
    "trainer = Trainer(max_epochs=20)"
   ]
  },
  {
   "cell_type": "code",
   "execution_count": 18,
   "id": "653fce1e",
   "metadata": {},
   "outputs": [
    {
     "name": "stderr",
     "output_type": "stream",
     "text": [
      "LOCAL_RANK: 0 - CUDA_VISIBLE_DEVICES: [0]\n",
      "\n",
      "  | Name      | Type               | Params | Mode \n",
      "---------------------------------------------------------\n",
      "0 | model     | EEGNet             | 1.5 K  | train\n",
      "1 | train_acc | MulticlassAccuracy | 0      | train\n",
      "2 | val_acc   | MulticlassAccuracy | 0      | train\n",
      "3 | criterion | CrossEntropyLoss   | 0      | train\n",
      "---------------------------------------------------------\n",
      "1.5 K     Trainable params\n",
      "0         Non-trainable params\n",
      "1.5 K     Total params\n",
      "0.006     Total estimated model params size (MB)\n",
      "22        Modules in train mode\n",
      "0         Modules in eval mode\n"
     ]
    },
    {
     "data": {
      "application/vnd.jupyter.widget-view+json": {
       "model_id": "4691f51f29c04fe48a4af2b15221b60f",
       "version_major": 2,
       "version_minor": 0
      },
      "text/plain": [
       "Sanity Checking: |          | 0/? [00:00<?, ?it/s]"
      ]
     },
     "metadata": {},
     "output_type": "display_data"
    },
    {
     "name": "stdout",
     "output_type": "stream",
     "text": [
      "val   acc loss 0.54 1.36\n"
     ]
    },
    {
     "data": {
      "application/vnd.jupyter.widget-view+json": {
       "model_id": "0c7e4bfff91e42a6afa0cdb5dec2ad39",
       "version_major": 2,
       "version_minor": 0
      },
      "text/plain": [
       "Training: |          | 0/? [00:00<?, ?it/s]"
      ]
     },
     "metadata": {},
     "output_type": "display_data"
    },
    {
     "data": {
      "application/vnd.jupyter.widget-view+json": {
       "model_id": "113c81b269fc49e987e9a4d8d99a77a1",
       "version_major": 2,
       "version_minor": 0
      },
      "text/plain": [
       "Validation: |          | 0/? [00:00<?, ?it/s]"
      ]
     },
     "metadata": {},
     "output_type": "display_data"
    },
    {
     "name": "stdout",
     "output_type": "stream",
     "text": [
      "val   acc loss 0.65 0.94\n",
      "train acc loss 0.55 1.14\n"
     ]
    },
    {
     "data": {
      "application/vnd.jupyter.widget-view+json": {
       "model_id": "c5da854e77644d2e860730b787a31f98",
       "version_major": 2,
       "version_minor": 0
      },
      "text/plain": [
       "Validation: |          | 0/? [00:00<?, ?it/s]"
      ]
     },
     "metadata": {},
     "output_type": "display_data"
    },
    {
     "name": "stdout",
     "output_type": "stream",
     "text": [
      "val   acc loss 0.65 0.91\n",
      "train acc loss 0.61 1.04\n"
     ]
    },
    {
     "data": {
      "application/vnd.jupyter.widget-view+json": {
       "model_id": "b6c6f925f0eb4ca68925bcf75bb11789",
       "version_major": 2,
       "version_minor": 0
      },
      "text/plain": [
       "Validation: |          | 0/? [00:00<?, ?it/s]"
      ]
     },
     "metadata": {},
     "output_type": "display_data"
    },
    {
     "name": "stdout",
     "output_type": "stream",
     "text": [
      "val   acc loss 0.65 0.9\n",
      "train acc loss 0.61 1.02\n"
     ]
    },
    {
     "data": {
      "application/vnd.jupyter.widget-view+json": {
       "model_id": "32e6824f3ec34369bea293d5e3d95676",
       "version_major": 2,
       "version_minor": 0
      },
      "text/plain": [
       "Validation: |          | 0/? [00:00<?, ?it/s]"
      ]
     },
     "metadata": {},
     "output_type": "display_data"
    },
    {
     "name": "stdout",
     "output_type": "stream",
     "text": [
      "val   acc loss 0.65 0.89\n",
      "train acc loss 0.61 1.0\n"
     ]
    },
    {
     "data": {
      "application/vnd.jupyter.widget-view+json": {
       "model_id": "5ed21a0ffb6e464f9a4680499069865a",
       "version_major": 2,
       "version_minor": 0
      },
      "text/plain": [
       "Validation: |          | 0/? [00:00<?, ?it/s]"
      ]
     },
     "metadata": {},
     "output_type": "display_data"
    },
    {
     "name": "stdout",
     "output_type": "stream",
     "text": [
      "val   acc loss 0.66 0.88\n",
      "train acc loss 0.62 0.97\n"
     ]
    },
    {
     "data": {
      "application/vnd.jupyter.widget-view+json": {
       "model_id": "3a03a0e7bae044be8c0652f0b61d6238",
       "version_major": 2,
       "version_minor": 0
      },
      "text/plain": [
       "Validation: |          | 0/? [00:00<?, ?it/s]"
      ]
     },
     "metadata": {},
     "output_type": "display_data"
    },
    {
     "name": "stdout",
     "output_type": "stream",
     "text": [
      "val   acc loss 0.66 0.88\n",
      "train acc loss 0.62 0.95\n"
     ]
    },
    {
     "data": {
      "application/vnd.jupyter.widget-view+json": {
       "model_id": "e62d227e242c4478a2603538c5c5c7ed",
       "version_major": 2,
       "version_minor": 0
      },
      "text/plain": [
       "Validation: |          | 0/? [00:00<?, ?it/s]"
      ]
     },
     "metadata": {},
     "output_type": "display_data"
    },
    {
     "name": "stdout",
     "output_type": "stream",
     "text": [
      "val   acc loss 0.66 0.88\n",
      "train acc loss 0.62 0.95\n"
     ]
    },
    {
     "data": {
      "application/vnd.jupyter.widget-view+json": {
       "model_id": "aaae6bb1978549bf80b18ef28ebd1aa4",
       "version_major": 2,
       "version_minor": 0
      },
      "text/plain": [
       "Validation: |          | 0/? [00:00<?, ?it/s]"
      ]
     },
     "metadata": {},
     "output_type": "display_data"
    },
    {
     "name": "stdout",
     "output_type": "stream",
     "text": [
      "val   acc loss 0.65 0.88\n",
      "train acc loss 0.62 0.95\n"
     ]
    },
    {
     "data": {
      "application/vnd.jupyter.widget-view+json": {
       "model_id": "f041bfd4ecde4465a6abacf267acc650",
       "version_major": 2,
       "version_minor": 0
      },
      "text/plain": [
       "Validation: |          | 0/? [00:00<?, ?it/s]"
      ]
     },
     "metadata": {},
     "output_type": "display_data"
    },
    {
     "name": "stdout",
     "output_type": "stream",
     "text": [
      "val   acc loss 0.66 0.85\n",
      "train acc loss 0.62 0.94\n"
     ]
    },
    {
     "data": {
      "application/vnd.jupyter.widget-view+json": {
       "model_id": "b09bff343d9b4d76afb89f15415f68fc",
       "version_major": 2,
       "version_minor": 0
      },
      "text/plain": [
       "Validation: |          | 0/? [00:00<?, ?it/s]"
      ]
     },
     "metadata": {},
     "output_type": "display_data"
    },
    {
     "name": "stderr",
     "output_type": "stream",
     "text": [
      "`Trainer.fit` stopped: `max_epochs=10` reached.\n"
     ]
    },
    {
     "name": "stdout",
     "output_type": "stream",
     "text": [
      "val   acc loss 0.67 0.85\n",
      "train acc loss 0.62 0.93\n"
     ]
    }
   ],
   "source": [
    "trainer.fit(pytorch_lightning_model)"
   ]
  }
 ],
 "metadata": {
  "kernelspec": {
   "display_name": "ml",
   "language": "python",
   "name": "python3"
  },
  "language_info": {
   "codemirror_mode": {
    "name": "ipython",
    "version": 3
   },
   "file_extension": ".py",
   "mimetype": "text/x-python",
   "name": "python",
   "nbconvert_exporter": "python",
   "pygments_lexer": "ipython3",
   "version": "3.11.13"
  }
 },
 "nbformat": 4,
 "nbformat_minor": 5
}
