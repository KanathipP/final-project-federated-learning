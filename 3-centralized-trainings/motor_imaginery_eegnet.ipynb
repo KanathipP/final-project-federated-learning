{
 "cells": [
  {
   "cell_type": "code",
   "execution_count": 3,
   "id": "747cb3ba",
   "metadata": {},
   "outputs": [],
   "source": [
    "import sys"
   ]
  },
  {
   "cell_type": "code",
   "execution_count": 4,
   "id": "6e11bfb7",
   "metadata": {},
   "outputs": [
    {
     "name": "stdout",
     "output_type": "stream",
     "text": [
      "[Fetcher] Starting data preparation...\n",
      "[Download] Skip: BCICIV_2a_gdf.zip already exists\n",
      "[Extract] Skip: already extracted at /home/kanathipp/Stuffs/Works/final-project-federated-learning/0-raw-data/motor-imaginary/data\n",
      "[Fetcher] Completed.\n"
     ]
    },
    {
     "data": {
      "text/plain": [
       "(torch.Size([2928]),\n",
       " torch.Size([2928, 22, 176]),\n",
       " torch.Size([880]),\n",
       " torch.Size([880, 22, 176]))"
      ]
     },
     "execution_count": 4,
     "metadata": {},
     "output_type": "execute_result"
    }
   ],
   "source": [
    "# we will use motor imaginery data for testing\n",
    "from pathlib import Path\n",
    "import importlib\n",
    "\n",
    "DATA_CLEANER_DIR = Path(\"../1-data-cleaning-pipelines/motor-imaginary\")\n",
    "\n",
    "def get_motor_imaginery_train_and_validation_data():\n",
    "    target_dir = DATA_CLEANER_DIR.resolve()\n",
    "    if str(target_dir) not in sys.path:\n",
    "        sys.path.append(str(target_dir))\n",
    "\n",
    "    import centralize_train_data_cleaner \n",
    "    importlib.reload(centralize_train_data_cleaner)\n",
    "\n",
    "    train_labels, train_features, val_labels, val_features = centralize_train_data_cleaner.pipeline()\n",
    "\n",
    "    return train_labels, train_features, val_labels, val_features\n",
    "\n",
    "train_labels, train_features, val_labels, val_features = get_motor_imaginery_train_and_validation_data();\n",
    "train_labels.shape, train_features.shape, val_labels.shape, val_features.shape"
   ]
  },
  {
   "cell_type": "code",
   "execution_count": 18,
   "id": "3dec7cdf",
   "metadata": {},
   "outputs": [
    {
     "data": {
      "text/plain": [
       "EEGNet(\n",
       "  (block1): Block1(\n",
       "    (conv_temporal): Conv2d(1, 8, kernel_size=(1, 64), stride=(1, 1), padding=(0, 32), bias=False)\n",
       "    (bn1): BatchNorm2d(8, eps=1e-05, momentum=0.1, affine=True, track_running_stats=True)\n",
       "    (depthwise): Conv2d(8, 16, kernel_size=(64, 1), stride=(1, 1), groups=8, bias=False)\n",
       "    (bn2): BatchNorm2d(16, eps=1e-05, momentum=0.1, affine=True, track_running_stats=True)\n",
       "    (act): ELU(alpha=1.0)\n",
       "    (pool): AvgPool2d(kernel_size=(1, 4), stride=(1, 4), padding=0)\n",
       "    (drop): Dropout(p=0.5, inplace=False)\n",
       "  )\n",
       "  (block2): Block2(\n",
       "    (sep_depth): Conv2d(16, 16, kernel_size=(1, 16), stride=(1, 1), padding=(0, 8), groups=16, bias=False)\n",
       "    (sep_point): Conv2d(16, 16, kernel_size=(1, 1), stride=(1, 1), bias=False)\n",
       "    (bn): BatchNorm2d(16, eps=1e-05, momentum=0.1, affine=True, track_running_stats=True)\n",
       "    (act): ELU(alpha=1.0)\n",
       "    (pool): AvgPool2d(kernel_size=(1, 8), stride=(1, 8), padding=0)\n",
       "    (drop): Dropout(p=0.5, inplace=False)\n",
       "  )\n",
       "  (classifier): Classifier(\n",
       "    (gap): AdaptiveAvgPool2d(output_size=(1, 1))\n",
       "    (fc): Linear(in_features=16, out_features=4, bias=True)\n",
       "  )\n",
       ")"
      ]
     },
     "execution_count": 18,
     "metadata": {},
     "output_type": "execute_result"
    }
   ],
   "source": [
    "from pathlib import Path\n",
    "import importlib\n",
    "MODEL_DIR = Path(\"../2-models\")\n",
    "\n",
    "def get_eegnet_pytorch_model():\n",
    "    target_dir = MODEL_DIR.resolve()\n",
    "    if str(target_dir) not in sys.path:\n",
    "        sys.path.append(str(target_dir))\n",
    "\n",
    "    import eegnet_pytorch \n",
    "    importlib.reload(eegnet_pytorch)\n",
    "\n",
    "    return eegnet_pytorch.EEGNet\n",
    "\n",
    "EEGNet = get_eegnet_pytorch_model()\n",
    "model = EEGNet(in_channel=64, num_classes=4)\n",
    "\n",
    "model"
   ]
  }
 ],
 "metadata": {
  "kernelspec": {
   "display_name": "ml",
   "language": "python",
   "name": "python3"
  },
  "language_info": {
   "codemirror_mode": {
    "name": "ipython",
    "version": 3
   },
   "file_extension": ".py",
   "mimetype": "text/x-python",
   "name": "python",
   "nbconvert_exporter": "python",
   "pygments_lexer": "ipython3",
   "version": "3.11.13"
  }
 },
 "nbformat": 4,
 "nbformat_minor": 5
}
