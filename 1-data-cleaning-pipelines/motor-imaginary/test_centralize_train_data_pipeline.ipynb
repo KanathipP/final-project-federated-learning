{
 "cells": [
  {
   "cell_type": "code",
   "execution_count": 1,
   "id": "9375e977",
   "metadata": {},
   "outputs": [
    {
     "name": "stdout",
     "output_type": "stream",
     "text": [
      "[Pipeline] Starting data preparation...\n",
      "[Download] Skip: BCICIV_2a_gdf.zip already exists\n",
      "[Extract] Skip: already extracted at /home/kanathipp/Stuffs/Works/final-project-federated-learning/0-raw-data/motor-imaginery/data\n",
      "[Pipeline] Completed.\n",
      "Used Annotations descriptions: [np.str_('1023'), np.str_('1072'), np.str_('276'), np.str_('277'), np.str_('32766'), np.str_('768'), np.str_('769'), np.str_('770'), np.str_('771'), np.str_('772')]\n",
      "Using data from preloaded Raw for 441 events and 176 original time points ...\n",
      "1 bad epochs dropped\n",
      "Used Annotations descriptions: [np.str_('1023'), np.str_('1072'), np.str_('276'), np.str_('277'), np.str_('32766'), np.str_('768'), np.str_('769'), np.str_('770'), np.str_('771'), np.str_('772')]\n",
      "Using data from preloaded Raw for 441 events and 176 original time points ...\n",
      "1 bad epochs dropped\n",
      "Used Annotations descriptions: [np.str_('1023'), np.str_('1072'), np.str_('276'), np.str_('277'), np.str_('32766'), np.str_('768'), np.str_('769'), np.str_('770'), np.str_('771'), np.str_('772')]\n",
      "Using data from preloaded Raw for 441 events and 176 original time points ...\n",
      "1 bad epochs dropped\n",
      "Used Annotations descriptions: [np.str_('1023'), np.str_('1072'), np.str_('32766'), np.str_('768'), np.str_('769'), np.str_('770'), np.str_('771'), np.str_('772')]\n",
      "Using data from preloaded Raw for 288 events and 176 original time points ...\n",
      "0 bad epochs dropped\n",
      "Used Annotations descriptions: [np.str_('1023'), np.str_('1072'), np.str_('276'), np.str_('277'), np.str_('32766'), np.str_('768'), np.str_('769'), np.str_('770'), np.str_('771'), np.str_('772')]\n",
      "Using data from preloaded Raw for 441 events and 176 original time points ...\n",
      "1 bad epochs dropped\n",
      "Used Annotations descriptions: [np.str_('1023'), np.str_('1072'), np.str_('276'), np.str_('277'), np.str_('32766'), np.str_('768'), np.str_('769'), np.str_('770'), np.str_('771'), np.str_('772')]\n",
      "Using data from preloaded Raw for 441 events and 176 original time points ...\n",
      "1 bad epochs dropped\n",
      "Used Annotations descriptions: [np.str_('1023'), np.str_('1072'), np.str_('276'), np.str_('277'), np.str_('32766'), np.str_('768'), np.str_('769'), np.str_('770'), np.str_('771'), np.str_('772')]\n",
      "Using data from preloaded Raw for 441 events and 176 original time points ...\n",
      "1 bad epochs dropped\n",
      "Used Annotations descriptions: [np.str_('1023'), np.str_('1072'), np.str_('276'), np.str_('277'), np.str_('32766'), np.str_('768'), np.str_('769'), np.str_('770'), np.str_('771'), np.str_('772')]\n",
      "Using data from preloaded Raw for 441 events and 176 original time points ...\n",
      "1 bad epochs dropped\n",
      "Used Annotations descriptions: [np.str_('1023'), np.str_('1072'), np.str_('276'), np.str_('277'), np.str_('32766'), np.str_('768'), np.str_('769'), np.str_('770'), np.str_('771'), np.str_('772')]\n",
      "Using data from preloaded Raw for 441 events and 176 original time points ...\n",
      "1 bad epochs dropped\n"
     ]
    },
    {
     "data": {
      "text/plain": [
       "(torch.Size([2928]),\n",
       " torch.Size([2928, 22, 176]),\n",
       " torch.Size([880]),\n",
       " torch.Size([880, 22, 176]))"
      ]
     },
     "execution_count": 1,
     "metadata": {},
     "output_type": "execute_result"
    }
   ],
   "source": [
    "import importlib\n",
    "\n",
    "import centralize_train_data_cleaner \n",
    "importlib.reload(centralize_train_data_cleaner)\n",
    "\n",
    "train_labels, train_features, val_labels, val_features = centralize_train_data_cleaner.pipeline()\n",
    "\n",
    "train_labels.shape, train_features.shape, val_labels.shape, val_features.shape"
   ]
  }
 ],
 "metadata": {
  "kernelspec": {
   "display_name": "ml",
   "language": "python",
   "name": "python3"
  },
  "language_info": {
   "codemirror_mode": {
    "name": "ipython",
    "version": 3
   },
   "file_extension": ".py",
   "mimetype": "text/x-python",
   "name": "python",
   "nbconvert_exporter": "python",
   "pygments_lexer": "ipython3",
   "version": "3.11.13"
  }
 },
 "nbformat": 4,
 "nbformat_minor": 5
}
