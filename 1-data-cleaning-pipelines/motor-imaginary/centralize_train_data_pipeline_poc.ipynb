{
 "cells": [
  {
   "cell_type": "code",
   "execution_count": 17,
   "id": "b0e145f8",
   "metadata": {},
   "outputs": [],
   "source": [
    "import sys\n",
    "\n",
    "assert sys.version_info >= (3, 10)"
   ]
  },
  {
   "cell_type": "code",
   "execution_count": 18,
   "id": "2b878fc1",
   "metadata": {},
   "outputs": [],
   "source": [
    "from packaging.version import Version\n",
    "import mne\n",
    "import sklearn\n",
    "import torch\n",
    "\n",
    "assert Version(mne.__version__) >= Version(\"1.10.1\")\n",
    "assert Version(sklearn.__version__) >= Version(\"1.4.0\")\n",
    "assert Version(torch.__version__) >= Version(\"2.1.0\")"
   ]
  },
  {
   "cell_type": "code",
   "execution_count": 19,
   "id": "ecd26656",
   "metadata": {},
   "outputs": [
    {
     "name": "stdout",
     "output_type": "stream",
     "text": [
      "[Fetcher] Starting data preparation...\n",
      "[Download] Skip: BCICIV_2a_gdf.zip already exists\n",
      "[Extract] Skip: already extracted at /home/kanathipp/Stuffs/Works/final-project-federated-learning/0-raw-data/motor-imaginary/data\n",
      "[Fetcher] Completed.\n"
     ]
    }
   ],
   "source": [
    "from pathlib import Path\n",
    "import importlib\n",
    "\n",
    "DATASET_DIR = Path(\"../../0-raw-data/motor-imaginary\")\n",
    "EXTRACT_DIR = Path(DATASET_DIR / \"data\")\n",
    "\n",
    "def download_and_extract_motor_imaginery_data():\n",
    "    target_dir = DATASET_DIR.resolve()\n",
    "    if str(target_dir) not in sys.path:\n",
    "        sys.path.append(str(target_dir))\n",
    "\n",
    "    import data_fetcher\n",
    "    importlib.reload(data_fetcher)\n",
    "\n",
    "    data_fetcher.download_and_extract_data(delete_zip=False)\n",
    "\n",
    "download_and_extract_motor_imaginery_data()"
   ]
  },
  {
   "cell_type": "code",
   "execution_count": 20,
   "id": "566fa9b0",
   "metadata": {},
   "outputs": [],
   "source": [
    "import mne\n",
    "def read_data(path):\n",
    "    raw = mne.io.read_raw_gdf(path, \n",
    "                              preload=True,\n",
    "                              eog=['EOG-left', 'EOG-central', 'EOG-right']\n",
    "                             )\n",
    "    raw.drop_channels(['EOG-left', 'EOG-central', 'EOG-right'])\n",
    "    raw.set_eeg_reference()\n",
    "    events = mne.events_from_annotations(raw)\n",
    "    epochs = mne.Epochs(raw, events[0], event_id=[5,6,7,8],on_missing ='warn')\n",
    "    features = epochs.get_data()\n",
    "    labels = epochs.events[:,-1]\n",
    "    return features,labels"
   ]
  },
  {
   "cell_type": "code",
   "execution_count": 21,
   "id": "d07875f5",
   "metadata": {},
   "outputs": [],
   "source": [
    "%%capture\n",
    "features,labels,groups=[],[],[]\n",
    "for i in range(1,10):\n",
    "  feature,label=read_data(Path(EXTRACT_DIR/ f'A0{i}T.gdf'))\n",
    "  features.append(feature)\n",
    "  labels.append(label)\n",
    "  groups.append([i]*len(label))"
   ]
  },
  {
   "cell_type": "code",
   "execution_count": 22,
   "id": "f94ee426",
   "metadata": {},
   "outputs": [
    {
     "data": {
      "text/plain": [
       "((3808, 176, 22), (3808,), (3808,))"
      ]
     },
     "execution_count": 22,
     "metadata": {},
     "output_type": "execute_result"
    }
   ],
   "source": [
    "import numpy as np\n",
    "\n",
    "features = np.concatenate(features)\n",
    "labels = np.concatenate(labels)\n",
    "groups = np.concatenate(groups)\n",
    "features = np.moveaxis(features, 1, 2)\n",
    "\n",
    "\n",
    "features.shape,labels.shape,groups.shape"
   ]
  },
  {
   "cell_type": "code",
   "execution_count": 23,
   "id": "02eb87e7",
   "metadata": {},
   "outputs": [
    {
     "data": {
      "text/plain": [
       "np.int64(0)"
      ]
     },
     "execution_count": 23,
     "metadata": {},
     "output_type": "execute_result"
    }
   ],
   "source": [
    "np.isnan(features).sum()"
   ]
  },
  {
   "cell_type": "code",
   "execution_count": 24,
   "id": "8a95ae4c",
   "metadata": {},
   "outputs": [
    {
     "data": {
      "text/plain": [
       "(array([5, 6, 7, 8]), array([ 136, 2376,  648,  648]))"
      ]
     },
     "execution_count": 24,
     "metadata": {},
     "output_type": "execute_result"
    }
   ],
   "source": [
    "unique, counts = np.unique(labels, return_counts=True)\n",
    "unique, counts"
   ]
  },
  {
   "cell_type": "code",
   "execution_count": 25,
   "id": "5e308b94",
   "metadata": {},
   "outputs": [
    {
     "data": {
      "text/plain": [
       "(array([1, 2, 3, 4, 5, 6, 7, 8, 9]),\n",
       " array([440, 440, 440, 288, 440, 440, 440, 440, 440]))"
      ]
     },
     "execution_count": 25,
     "metadata": {},
     "output_type": "execute_result"
    }
   ],
   "source": [
    "unique, counts = np.unique(groups, return_counts=True)\n",
    "unique, counts"
   ]
  },
  {
   "cell_type": "code",
   "execution_count": 26,
   "id": "754ad0de",
   "metadata": {},
   "outputs": [],
   "source": [
    "from sklearn.preprocessing import StandardScaler\n",
    "from sklearn.base import TransformerMixin, BaseEstimator\n",
    "\n",
    "#https://stackoverflow.com/questions/50125844/how-to-standard-scale-a-3d-matrix\n",
    "class StandardScaler3D(BaseEstimator,TransformerMixin):\n",
    "    #batch, sequence, channels\n",
    "    def __init__(self):\n",
    "        self.scaler = StandardScaler()\n",
    "\n",
    "    def fit(self,X,y=None):\n",
    "        self.scaler.fit(X.reshape(-1, X.shape[2]))\n",
    "        return self\n",
    "\n",
    "    def transform(self,X):\n",
    "        return self.scaler.transform(X.reshape( -1,X.shape[2])).reshape(X.shape)"
   ]
  },
  {
   "cell_type": "code",
   "execution_count": null,
   "id": "297006a5",
   "metadata": {},
   "outputs": [
    {
     "name": "stdout",
     "output_type": "stream",
     "text": [
      "จำนวน group:\n",
      "  train_groups: 5\n",
      "  val_groups  : 1\n",
      "  test_groups : 3\n",
      "id group:\n",
      "  train_groups: [8 2 6 1 9]\n",
      "  val_groups  : [3]\n",
      "  test_groups : [5 4 7]\n",
      "จำนวน sample:\n",
      "  train: 2200\n",
      "  val  : 440\n",
      "  test : 1168\n",
      "overlap(train,val): 0\n",
      "overlap(train,test): 0\n",
      "overlap(val,test): 0\n",
      "final shapes:\n",
      "  train_features: (2200, 22, 176)\n",
      "  val_features  : (440, 22, 176)\n",
      "  test_features : (1168, 22, 176)\n"
     ]
    }
   ],
   "source": [
    "from sklearn.model_selection import GroupShuffleSplit\n",
    "\n",
    "gss_test = GroupShuffleSplit(n_splits=1,test_size=0.2, random_state=42)\n",
    "train_val_index, test_index = next(gss_test.split(features, labels, groups))\n",
    "\n",
    "gss_val = GroupShuffleSplit(n_splits=1, test_size=0.2, random_state=42)\n",
    "relative_train_index, relative_val_index = next(gss_val.split(features[train_val_index], labels[train_val_index], groups[train_val_index]))\n",
    "train_index = train_val_index[relative_train_index]\n",
    "val_index = train_val_index[relative_val_index]\n",
    "\n",
    "train_features, train_labels = features[train_index], labels[train_index]\n",
    "val_features,  val_labels  = features[val_index],  labels[val_index]\n",
    "test_features,  test_labels  = features[test_index],  labels[test_index]\n",
    "\n",
    "scaler = StandardScaler3D()\n",
    "train_features = scaler.fit_transform(train_features)\n",
    "val_features  = scaler.transform(val_features)\n",
    "test_features  = scaler.transform(test_features)\n",
    "\n",
    "train_features = np.moveaxis(train_features, 1, 2)\n",
    "val_features = np.moveaxis(val_features, 1, 2)\n",
    "test_features  = np.moveaxis(test_features, 1, 2)"
   ]
  },
  {
   "cell_type": "code",
   "execution_count": 34,
   "id": "83aa6ecc",
   "metadata": {},
   "outputs": [
    {
     "data": {
      "text/plain": [
       "(440, 440, 1168, 1168)"
      ]
     },
     "execution_count": 34,
     "metadata": {},
     "output_type": "execute_result"
    }
   ],
   "source": [
    "import torch\n",
    "\n",
    "train_features = torch.Tensor(train_features)\n",
    "val_features = torch.Tensor(val_features)\n",
    "test_features = torch.Tensor(test_features)\n",
    "\n",
    "train_labels = torch.Tensor(train_labels)\n",
    "val_labels = torch.Tensor(val_labels)\n",
    "test_labels = torch.Tensor(test_labels)\n",
    "\n",
    "len(val_features), len(val_labels), len(test_features), len(test_labels)"
   ]
  },
  {
   "cell_type": "code",
   "execution_count": 29,
   "id": "4d91363e",
   "metadata": {},
   "outputs": [
    {
     "data": {
      "text/plain": [
       "torch.Size([2048, 22, 176])"
      ]
     },
     "execution_count": 29,
     "metadata": {},
     "output_type": "execute_result"
    }
   ],
   "source": [
    "train_features.shape"
   ]
  },
  {
   "cell_type": "code",
   "execution_count": 30,
   "id": "7841f3a5",
   "metadata": {},
   "outputs": [
    {
     "data": {
      "text/plain": [
       "torch.Size([880, 22, 176])"
      ]
     },
     "execution_count": 30,
     "metadata": {},
     "output_type": "execute_result"
    }
   ],
   "source": [
    "val_features.shape"
   ]
  },
  {
   "cell_type": "code",
   "execution_count": 31,
   "id": "e3fb791a",
   "metadata": {},
   "outputs": [
    {
     "data": {
      "text/plain": [
       "torch.Size([880, 22, 176])"
      ]
     },
     "execution_count": 31,
     "metadata": {},
     "output_type": "execute_result"
    }
   ],
   "source": [
    "test_features.shape"
   ]
  },
  {
   "cell_type": "code",
   "execution_count": 32,
   "id": "d67b3992",
   "metadata": {},
   "outputs": [],
   "source": [
    "import numpy as np\n",
    "\n",
    "def remap_np(y: torch.Tensor) -> torch.Tensor:\n",
    "    y_np = y.view(-1).cpu().numpy()\n",
    "    uniq = np.unique(y_np)                       \n",
    "    lut = {u: i for i, u in enumerate(uniq)}    \n",
    "    y_new = np.vectorize(lut.get)(y_np)\n",
    "    return torch.as_tensor(y_new, dtype=torch.long, device=y.device)\n",
    "\n",
    "train_labels = remap_np(train_labels)\n",
    "val_labels = remap_np(val_labels)\n",
    "test_labels   = remap_np(test_labels)"
   ]
  }
 ],
 "metadata": {
  "kernelspec": {
   "display_name": "ml",
   "language": "python",
   "name": "python3"
  },
  "language_info": {
   "codemirror_mode": {
    "name": "ipython",
    "version": 3
   },
   "file_extension": ".py",
   "mimetype": "text/x-python",
   "name": "python",
   "nbconvert_exporter": "python",
   "pygments_lexer": "ipython3",
   "version": "3.11.13"
  }
 },
 "nbformat": 4,
 "nbformat_minor": 5
}
