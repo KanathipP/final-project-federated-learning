{
 "cells": [
  {
   "cell_type": "code",
   "execution_count": 1,
   "id": "b0e145f8",
   "metadata": {},
   "outputs": [],
   "source": [
    "import sys\n",
    "\n",
    "assert sys.version_info >= (3, 10)"
   ]
  },
  {
   "cell_type": "code",
   "execution_count": 2,
   "id": "2b878fc1",
   "metadata": {},
   "outputs": [],
   "source": [
    "from packaging.version import Version\n",
    "import mne\n",
    "import sklearn\n",
    "import torch\n",
    "\n",
    "assert Version(mne.__version__) >= Version(\"1.10.1\")\n",
    "assert Version(sklearn.__version__) >= Version(\"1.4.0\")\n",
    "assert Version(torch.__version__) >= Version(\"2.1.0\")"
   ]
  },
  {
   "cell_type": "code",
   "execution_count": 3,
   "id": "ecd26656",
   "metadata": {},
   "outputs": [
    {
     "name": "stdout",
     "output_type": "stream",
     "text": [
      "[Fetcher] Starting data preparation...\n",
      "[Download] Skip: BCICIV_2a_gdf.zip already exists\n",
      "[Extract] Skip: already extracted at /home/kanathipp/Stuffs/Works/final-project-federated-learning/0-raw-data/motor-imaginary/data\n",
      "[Fetcher] Completed.\n"
     ]
    }
   ],
   "source": [
    "from pathlib import Path\n",
    "import importlib\n",
    "\n",
    "DATASET_DIR = Path(\"../../0-raw-data/motor-imaginary\")\n",
    "EXTRACT_DIR = Path(DATASET_DIR / \"data\")\n",
    "\n",
    "def download_and_extract_motor_imaginery_data():\n",
    "    target_dir = DATASET_DIR.resolve()\n",
    "    if str(target_dir) not in sys.path:\n",
    "        sys.path.append(str(target_dir))\n",
    "\n",
    "    import data_fetcher\n",
    "    importlib.reload(data_fetcher)\n",
    "\n",
    "    data_fetcher.download_and_extract_data(delete_zip=False)\n",
    "\n",
    "download_and_extract_motor_imaginery_data()"
   ]
  },
  {
   "cell_type": "code",
   "execution_count": 4,
   "id": "566fa9b0",
   "metadata": {},
   "outputs": [],
   "source": [
    "import mne\n",
    "def read_data(path):\n",
    "    raw = mne.io.read_raw_gdf(path, \n",
    "                              preload=True,\n",
    "                              eog=['EOG-left', 'EOG-central', 'EOG-right']\n",
    "                             )\n",
    "    raw.drop_channels(['EOG-left', 'EOG-central', 'EOG-right'])\n",
    "    raw.set_eeg_reference()\n",
    "    events = mne.events_from_annotations(raw)\n",
    "    epochs = mne.Epochs(raw, events[0], event_id=[5,6,7,8],on_missing ='warn')\n",
    "    features = epochs.get_data()\n",
    "    labels = epochs.events[:,-1]\n",
    "    return features,labels"
   ]
  },
  {
   "cell_type": "code",
   "execution_count": 5,
   "id": "d07875f5",
   "metadata": {},
   "outputs": [],
   "source": [
    "%%capture\n",
    "features,labels,groups=[],[],[]\n",
    "for i in range(1,10):\n",
    "  feature,label=read_data(Path(EXTRACT_DIR/ f'A0{i}E.gdf'))\n",
    "  features.append(feature)\n",
    "  labels.append(label)\n",
    "  groups.append([i]*len(label))"
   ]
  },
  {
   "cell_type": "code",
   "execution_count": 6,
   "id": "f94ee426",
   "metadata": {},
   "outputs": [
    {
     "data": {
      "text/plain": [
       "((5256, 176, 22), (5256,), (5256,))"
      ]
     },
     "execution_count": 6,
     "metadata": {},
     "output_type": "execute_result"
    }
   ],
   "source": [
    "import numpy as np\n",
    "\n",
    "features = np.concatenate(features)\n",
    "labels = np.concatenate(labels)\n",
    "groups = np.concatenate(groups)\n",
    "features = np.moveaxis(features, 1, 2)\n",
    "\n",
    "\n",
    "features.shape,labels.shape,groups.shape"
   ]
  },
  {
   "cell_type": "code",
   "execution_count": 7,
   "id": "02eb87e7",
   "metadata": {},
   "outputs": [
    {
     "data": {
      "text/plain": [
       "np.int64(0)"
      ]
     },
     "execution_count": 7,
     "metadata": {},
     "output_type": "execute_result"
    }
   ],
   "source": [
    "np.isnan(features).sum()"
   ]
  },
  {
   "cell_type": "code",
   "execution_count": 8,
   "id": "8a95ae4c",
   "metadata": {},
   "outputs": [
    {
     "data": {
      "text/plain": [
       "(array([5, 6, 7]), array([  72, 2592, 2592]))"
      ]
     },
     "execution_count": 8,
     "metadata": {},
     "output_type": "execute_result"
    }
   ],
   "source": [
    "unique, counts = np.unique(labels, return_counts=True)\n",
    "unique, counts"
   ]
  },
  {
   "cell_type": "code",
   "execution_count": 9,
   "id": "5e308b94",
   "metadata": {},
   "outputs": [
    {
     "data": {
      "text/plain": [
       "(array([1, 2, 3, 4, 5, 6, 7, 8, 9]),\n",
       " array([584, 584, 584, 584, 584, 584, 584, 584, 584]))"
      ]
     },
     "execution_count": 9,
     "metadata": {},
     "output_type": "execute_result"
    }
   ],
   "source": [
    "unique, counts = np.unique(groups, return_counts=True)\n",
    "unique, counts"
   ]
  },
  {
   "cell_type": "code",
   "execution_count": 10,
   "id": "754ad0de",
   "metadata": {},
   "outputs": [],
   "source": [
    "from sklearn.model_selection import GroupKFold, LeaveOneGroupOut\n",
    "from sklearn.preprocessing import StandardScaler\n",
    "\n",
    "gkf = GroupKFold()\n",
    "\n",
    "from sklearn.base import TransformerMixin, BaseEstimator\n",
    "\n",
    "#https://stackoverflow.com/questions/50125844/how-to-standard-scale-a-3d-matrix\n",
    "class StandardScaler3D(BaseEstimator,TransformerMixin):\n",
    "    #batch, sequence, channels\n",
    "    def __init__(self):\n",
    "        self.scaler = StandardScaler()\n",
    "\n",
    "    def fit(self,X,y=None):\n",
    "        self.scaler.fit(X.reshape(-1, X.shape[2]))\n",
    "        return self\n",
    "\n",
    "    def transform(self,X):\n",
    "        return self.scaler.transform(X.reshape( -1,X.shape[2])).reshape(X.shape)"
   ]
  },
  {
   "cell_type": "code",
   "execution_count": 16,
   "id": "297006a5",
   "metadata": {},
   "outputs": [],
   "source": [
    "scaler = StandardScaler3D()\n",
    "features = scaler.fit_transform(features)\n",
    "features = np.moveaxis(features, 1, 2)\n",
    "\n"
   ]
  },
  {
   "cell_type": "code",
   "execution_count": 17,
   "id": "83aa6ecc",
   "metadata": {},
   "outputs": [
    {
     "data": {
      "text/plain": [
       "(5256, 5256)"
      ]
     },
     "execution_count": 17,
     "metadata": {},
     "output_type": "execute_result"
    }
   ],
   "source": [
    "import torch\n",
    "\n",
    "test_features = torch.Tensor(features)\n",
    "test_labels = torch.Tensor(labels)\n",
    "\n",
    "len(test_features), len(test_labels)"
   ]
  },
  {
   "cell_type": "code",
   "execution_count": 18,
   "id": "4d91363e",
   "metadata": {},
   "outputs": [
    {
     "data": {
      "text/plain": [
       "torch.Size([5256, 22, 176])"
      ]
     },
     "execution_count": 18,
     "metadata": {},
     "output_type": "execute_result"
    }
   ],
   "source": [
    "test_features.shape"
   ]
  },
  {
   "cell_type": "code",
   "execution_count": null,
   "id": "d67b3992",
   "metadata": {},
   "outputs": [],
   "source": [
    "import numpy as np\n",
    "\n",
    "def remap_np(y: torch.Tensor) -> torch.Tensor:\n",
    "    y_np = y.view(-1).cpu().numpy()\n",
    "    uniq = np.unique(y_np)                       # e.g., [5,6,7,8]\n",
    "    lut = {u: i for i, u in enumerate(uniq)}     # {5:0, 6:1, 7:2, 8:3}\n",
    "    y_new = np.vectorize(lut.get)(y_np)\n",
    "    return torch.as_tensor(y_new, dtype=torch.long, device=y.device)\n",
    "\n",
    "test_labels = remap_np(test_labels)"
   ]
  }
 ],
 "metadata": {
  "kernelspec": {
   "display_name": "ml",
   "language": "python",
   "name": "python3"
  },
  "language_info": {
   "codemirror_mode": {
    "name": "ipython",
    "version": 3
   },
   "file_extension": ".py",
   "mimetype": "text/x-python",
   "name": "python",
   "nbconvert_exporter": "python",
   "pygments_lexer": "ipython3",
   "version": "3.11.13"
  }
 },
 "nbformat": 4,
 "nbformat_minor": 5
}
