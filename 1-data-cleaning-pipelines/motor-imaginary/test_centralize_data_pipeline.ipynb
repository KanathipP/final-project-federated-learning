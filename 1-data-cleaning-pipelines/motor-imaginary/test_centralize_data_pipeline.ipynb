{
 "cells": [
  {
   "cell_type": "code",
   "execution_count": 1,
   "id": "9375e977",
   "metadata": {},
   "outputs": [
    {
     "name": "stdout",
     "output_type": "stream",
     "text": [
      "[Fetcher] Starting data preparation...\n",
      "[Download] Skip: BCICIV_2a_gdf.zip already exists\n",
      "[Extract] Skip: already extracted at /home/kanathipp/Stuffs/Works/final-project-federated-learning/0-raw-data/motor-imaginary/data\n",
      "[Fetcher] Completed.\n"
     ]
    },
    {
     "data": {
      "text/plain": [
       "(torch.Size([2928, 22, 176]),\n",
       " torch.Size([2928]),\n",
       " torch.Size([880, 22, 176]),\n",
       " torch.Size([880]))"
      ]
     },
     "execution_count": 1,
     "metadata": {},
     "output_type": "execute_result"
    }
   ],
   "source": [
    "import importlib\n",
    "\n",
    "import centralize_train_data_cleaner \n",
    "importlib.reload(centralize_train_data_cleaner)\n",
    "\n",
    "train_features, train_labels, val_features, val_labels = centralize_train_data_cleaner.pipeline()\n",
    "\n",
    "train_features.shape, train_labels.shape, val_features.shape, val_labels.shape"
   ]
  },
  {
   "cell_type": "code",
   "execution_count": null,
   "id": "4c22146a",
   "metadata": {},
   "outputs": [],
   "source": [
    "import importlib\n",
    "\n",
    "import centralize_test_data_cleaner \n",
    "importlib.reload(centralize_test_data_cleaner)\n",
    "\n",
    "test_features, test_labels = centralize_test_data_cleaner.pipeline()\n",
    "\n",
    "test_features.shape, test_labels.shape"
   ]
  }
 ],
 "metadata": {
  "kernelspec": {
   "display_name": "ml",
   "language": "python",
   "name": "python3"
  },
  "language_info": {
   "codemirror_mode": {
    "name": "ipython",
    "version": 3
   },
   "file_extension": ".py",
   "mimetype": "text/x-python",
   "name": "python",
   "nbconvert_exporter": "python",
   "pygments_lexer": "ipython3",
   "version": "3.11.13"
  }
 },
 "nbformat": 4,
 "nbformat_minor": 5
}
