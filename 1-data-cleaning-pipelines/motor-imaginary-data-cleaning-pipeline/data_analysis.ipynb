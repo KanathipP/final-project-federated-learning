{
 "cells": [
  {
   "cell_type": "code",
   "execution_count": 3,
   "id": "78c32ae8",
   "metadata": {},
   "outputs": [],
   "source": [
    "%%capture\n",
    "!pip install mne\n",
    "!pip install pytorch-lightning"
   ]
  },
  {
   "cell_type": "code",
   "execution_count": 9,
   "id": "f451763e",
   "metadata": {},
   "outputs": [],
   "source": [
    "import sys\n",
    "\n",
    "assert sys.version_info >= (3, 10)"
   ]
  },
  {
   "cell_type": "code",
   "execution_count": 12,
   "id": "f4923ca1",
   "metadata": {},
   "outputs": [],
   "source": [
    "from packaging.version import Version\n",
    "import mne\n",
    "import numpy as np\n",
    "\n",
    "assert Version(mne.__version__) >= Version(\"1.10.1\")\n",
    "assert Version(np.__version__) >= Version(\"2.0.1\")"
   ]
  },
  {
   "cell_type": "code",
   "execution_count": 17,
   "id": "854647f9",
   "metadata": {},
   "outputs": [
    {
     "name": "stdout",
     "output_type": "stream",
     "text": [
      "[skip] zip already downloaded\n",
      "[skip] already extracted\n"
     ]
    }
   ],
   "source": [
    "import os\n",
    "sys.path.append(os.path.abspath(\"../../0-raw-data/01-motor-imaginery\"))\n",
    "\n",
    "from prepare_data import main as prepare_data\n",
    "prepare_data()"
   ]
  },
  {
   "cell_type": "code",
   "execution_count": null,
   "id": "3ee97274",
   "metadata": {},
   "outputs": [
    {
     "ename": "NotImplementedError",
     "evalue": "Only GDF files are supported, got .",
     "output_type": "error",
     "traceback": [
      "\u001b[31m---------------------------------------------------------------------------\u001b[39m",
      "\u001b[31mNotImplementedError\u001b[39m                       Traceback (most recent call last)",
      "\u001b[36mCell\u001b[39m\u001b[36m \u001b[39m\u001b[32mIn[6]\u001b[39m\u001b[32m, line 1\u001b[39m\n\u001b[32m----> \u001b[39m\u001b[32m1\u001b[39m raw = \u001b[43mmne\u001b[49m\u001b[43m.\u001b[49m\u001b[43mio\u001b[49m\u001b[43m.\u001b[49m\u001b[43mread_raw_gdf\u001b[49m\u001b[43m(\u001b[49m\u001b[33;43m'\u001b[39;49m\u001b[33;43m./data/A\u001b[39;49m\u001b[33;43m'\u001b[39;49m\u001b[43m)\u001b[49m\n",
      "\u001b[36mFile \u001b[39m\u001b[32m~/miniconda3/envs/ml/lib/python3.11/site-packages/mne/io/edf/edf.py:1911\u001b[39m, in \u001b[36mread_raw_gdf\u001b[39m\u001b[34m(input_fname, eog, misc, stim_channel, exclude, include, preload, verbose)\u001b[39m\n\u001b[32m   1909\u001b[39m ext = os.path.splitext(input_fname)[\u001b[32m1\u001b[39m][\u001b[32m1\u001b[39m:].lower()\n\u001b[32m   1910\u001b[39m \u001b[38;5;28;01mif\u001b[39;00m ext != \u001b[33m\"\u001b[39m\u001b[33mgdf\u001b[39m\u001b[33m\"\u001b[39m:\n\u001b[32m-> \u001b[39m\u001b[32m1911\u001b[39m     \u001b[38;5;28;01mraise\u001b[39;00m \u001b[38;5;167;01mNotImplementedError\u001b[39;00m(\u001b[33mf\u001b[39m\u001b[33m\"\u001b[39m\u001b[33mOnly GDF files are supported, got \u001b[39m\u001b[38;5;132;01m{\u001b[39;00mext\u001b[38;5;132;01m}\u001b[39;00m\u001b[33m.\u001b[39m\u001b[33m\"\u001b[39m)\n\u001b[32m   1912\u001b[39m \u001b[38;5;28;01mreturn\u001b[39;00m RawGDF(\n\u001b[32m   1913\u001b[39m     input_fname=input_fname,\n\u001b[32m   1914\u001b[39m     eog=eog,\n\u001b[32m   (...)\u001b[39m\u001b[32m   1920\u001b[39m     verbose=verbose,\n\u001b[32m   1921\u001b[39m )\n",
      "\u001b[31mNotImplementedError\u001b[39m: Only GDF files are supported, got ."
     ]
    }
   ],
   "source": [
    "raw = mne.io.read_raw_gdf('../../0-raw-data/01-motor-imaginery/data/A04T.gdf', eog=['EOG-left', 'EOG-central', 'EOG-right'])\n",
    "raw.drop_channels(['EOG-left', 'EOG-central', 'EOG-right'])"
   ]
  },
  {
   "cell_type": "code",
   "execution_count": null,
   "id": "1a252afa",
   "metadata": {},
   "outputs": [],
   "source": []
  }
 ],
 "metadata": {
  "kernelspec": {
   "display_name": "ml",
   "language": "python",
   "name": "python3"
  },
  "language_info": {
   "codemirror_mode": {
    "name": "ipython",
    "version": 3
   },
   "file_extension": ".py",
   "mimetype": "text/x-python",
   "name": "python",
   "nbconvert_exporter": "python",
   "pygments_lexer": "ipython3",
   "version": "3.11.13"
  }
 },
 "nbformat": 4,
 "nbformat_minor": 5
}
