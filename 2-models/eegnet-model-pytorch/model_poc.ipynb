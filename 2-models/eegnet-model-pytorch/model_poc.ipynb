{
 "cells": [
  {
   "cell_type": "code",
   "execution_count": 2,
   "id": "747cb3ba",
   "metadata": {},
   "outputs": [],
   "source": [
    "import sys"
   ]
  },
  {
   "cell_type": "code",
   "execution_count": null,
   "id": "6e11bfb7",
   "metadata": {},
   "outputs": [
    {
     "ename": "ModuleNotFoundError",
     "evalue": "No module named 'centralize_train_data_cleaner'",
     "output_type": "error",
     "traceback": [
      "\u001b[31m---------------------------------------------------------------------------\u001b[39m",
      "\u001b[31mModuleNotFoundError\u001b[39m                       Traceback (most recent call last)",
      "\u001b[36mCell\u001b[39m\u001b[36m \u001b[39m\u001b[32mIn[4]\u001b[39m\u001b[32m, line 19\u001b[39m\n\u001b[32m     15\u001b[39m     train_labels, train_features, val_labels, val_features = centralize_train_data_cleaner.pipeline()\n\u001b[32m     17\u001b[39m     \u001b[38;5;28;01mreturn\u001b[39;00m train_labels, train_features, val_labels, val_features\n\u001b[32m---> \u001b[39m\u001b[32m19\u001b[39m train_labels, train_features, val_labels, val_features = \u001b[43mget_motor_imaginery_train_and_validation_data\u001b[49m\u001b[43m(\u001b[49m\u001b[43m)\u001b[49m;\n\u001b[32m     20\u001b[39m train_labels.shape, train_features.shape, val_labels.shape, val_features.shape\n",
      "\u001b[36mCell\u001b[39m\u001b[36m \u001b[39m\u001b[32mIn[4]\u001b[39m\u001b[32m, line 12\u001b[39m, in \u001b[36mget_motor_imaginery_train_and_validation_data\u001b[39m\u001b[34m()\u001b[39m\n\u001b[32m      9\u001b[39m \u001b[38;5;28;01mif\u001b[39;00m \u001b[38;5;28mstr\u001b[39m(target_dir) \u001b[38;5;129;01mnot\u001b[39;00m \u001b[38;5;129;01min\u001b[39;00m sys.path:\n\u001b[32m     10\u001b[39m     sys.path.append(\u001b[38;5;28mstr\u001b[39m(target_dir))\n\u001b[32m---> \u001b[39m\u001b[32m12\u001b[39m \u001b[38;5;28;01mimport\u001b[39;00m\u001b[38;5;250m \u001b[39m\u001b[34;01mcentralize_train_data_cleaner\u001b[39;00m \n\u001b[32m     13\u001b[39m importlib.reload(centralize_train_data_cleaner)\n\u001b[32m     15\u001b[39m train_labels, train_features, val_labels, val_features = centralize_train_data_cleaner.pipeline()\n",
      "\u001b[31mModuleNotFoundError\u001b[39m: No module named 'centralize_train_data_cleaner'"
     ]
    }
   ],
   "source": [
    "# we will use motor imaginery data for testing\n",
    "from pathlib import Path\n",
    "import importlib\n",
    "\n",
    "DATA_CLEANER_DIR = Path(\"../../1-data-cleaning-pipelines/motor-imaginary\")\n",
    "\n",
    "def get_motor_imaginery_train_and_validation_data():\n",
    "    target_dir = DATA_CLEANER_DIR.resolve()\n",
    "    if str(target_dir) not in sys.path:\n",
    "        sys.path.append(str(target_dir))\n",
    "\n",
    "    import centralize_train_data_cleaner \n",
    "    importlib.reload(centralize_train_data_cleaner)\n",
    "\n",
    "    train_labels, train_features, val_labels, val_features = centralize_train_data_cleaner.pipeline()\n",
    "\n",
    "    return train_labels, train_features, val_labels, val_features\n",
    "\n",
    "train_labels, train_features, val_labels, val_features = get_motor_imaginery_train_and_validation_data();\n",
    "train_labels.shape, train_features.shape, val_labels.shape, val_features.shape"
   ]
  }
 ],
 "metadata": {
  "kernelspec": {
   "display_name": "ml",
   "language": "python",
   "name": "python3"
  },
  "language_info": {
   "codemirror_mode": {
    "name": "ipython",
    "version": 3
   },
   "file_extension": ".py",
   "mimetype": "text/x-python",
   "name": "python",
   "nbconvert_exporter": "python",
   "pygments_lexer": "ipython3",
   "version": "3.11.13"
  }
 },
 "nbformat": 4,
 "nbformat_minor": 5
}
